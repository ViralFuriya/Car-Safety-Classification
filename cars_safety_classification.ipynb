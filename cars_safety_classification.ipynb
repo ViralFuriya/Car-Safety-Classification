{
 "cells": [
  {
   "cell_type": "markdown",
   "metadata": {},
   "source": [
    "# Cars Safety Classification Project\n",
    "\n",
    "Welcome to the Cars Safety Classification Project! In this project, we aim to classify the safety level of cars based on various attributes using machine learning algorithms. The dataset used in this project contains information about the buying price, maintenance cost, number of doors, capacity, trunk size, and safety of different cars.\n",
    "\n",
    "## Project Overview\n",
    "\n",
    "In this project, we will:\n",
    "- Explore the dataset to understand its structure and attributes.\n",
    "- Perform data preprocessing including handling missing values, encoding categorical variables, and scaling numerical features.\n",
    "- Split the dataset into training and testing sets.\n",
    "- Build and train machine learning models using various algorithms such as Decision Trees, K-Nearest Neighbors (KNN), Support Vector Machines (SVM), and Logistic Regression.\n",
    "- Evaluate the performance of each model using metrics such as accuracy, precision, recall, and F1-score.\n",
    "- Analyze the results and select the best-performing model for classifying the safety level of cars.\n",
    "\n",
    "## Dataset Description\n",
    "\n",
    "The dataset consists of the following features:\n",
    "- **Buying**: The buying price of the car (e.g., vhigh, high, med, low).\n",
    "- **Maint**: The maintenance cost of the car (e.g., vhigh, high, med, low).\n",
    "- **Doors**: The number of doors (e.g., 2, 3, 4, 5more).\n",
    "- **Person**: The capacity of the car (e.g., 2, 4, more).\n",
    "- **Lug_boot**: The size of the trunk/boot (e.g., small, med, big).\n",
    "- **Safety**: The safety level of the car (classes: unacc, acc, good, vgood).\n",
    "\n",
    "## Notebooks and Files\n",
    "\n",
    "- `cars_safety_classification.ipynb`: Jupyter Notebook containing the code implementation of the project.\n",
    "- `cars_train.csv`: CSV file containing the clean training dataset.\n",
    "- `cars_test.csv`: CSV file containing the clean testing dataset.\n",
    "\n",
    "Let's dive into the project and start exploring the dataset!\n"
   ]
  },
  {
   "cell_type": "markdown",
   "metadata": {},
   "source": [
    "## Imported Libraries\n",
    "\n",
    "Below are the Python libraries imported for this project and their purposes:\n",
    "\n",
    "- **Pandas**: Used for data manipulation and analysis.\n",
    "- **NumPy**: Provides support for mathematical functions on arrays and matrices.\n",
    "- **LabelEncoder**: Used for encoding categorical variables into numerical values.\n",
    "- **StandardScaler**: Used for scaling numerical features to have a mean of 0 and a standard deviation of 1.\n",
    "- **DecisionTreeClassifier**: A classifier based on decision trees for classification tasks.\n",
    "- **confusion_matrix**: Function to compute confusion matrix to evaluate the performance of a classification model.\n",
    "- **accuracy_score**: Function to compute accuracy score to evaluate the performance of a classification model.\n",
    "- **classification_report**: Function to generate a text report showing the main classification metrics.\n",
    "- **tree**: Module containing functions related to decision trees in scikit-learn.\n",
    "- **LogisticRegression**: A classifier for logistic regression.\n",
    "- **SVC**: Support Vector Classification.\n",
    "- **KNeighborsClassifier**: A classifier based on the k-nearest neighbors algorithm.\n",
    "\n"
   ]
  },
  {
   "cell_type": "code",
   "execution_count": 7,
   "metadata": {},
   "outputs": [],
   "source": [
    "import pandas as pd\n",
    "import numpy as np\n",
    "\n",
    "from sklearn.preprocessing import LabelEncoder\n",
    "from sklearn.preprocessing import StandardScaler\n",
    "from sklearn.tree import DecisionTreeClassifier\n",
    "from sklearn.metrics import confusion_matrix, accuracy_score , classification_report\n",
    "from sklearn import tree\n",
    "from sklearn.linear_model import LogisticRegression\n",
    "from sklearn.svm import SVC\n",
    "from sklearn.neighbors import KNeighborsClassifier\n"
   ]
  },
  {
   "cell_type": "markdown",
   "metadata": {},
   "source": [
    "## Data Loading and Exploration\n",
    "\n",
    "### Reading the Dataset\n",
    "To load the dataset into a Pandas DataFrame, we used the `pd.read()` method. For example:\n",
    "```python\n",
    "df = pd.read_csv('dataset.csv')\n",
    "```\n",
    "\n",
    "\n",
    "\n",
    "\n",
    "\n",
    "\n"
   ]
  },
  {
   "cell_type": "code",
   "execution_count": 8,
   "metadata": {},
   "outputs": [],
   "source": [
    "cars_train=pd.read_csv(r'cars_train.csv',header=None)\n",
    "cars_test=pd.read_csv(r'cars_test.csv',header=None)"
   ]
  },
  {
   "cell_type": "markdown",
   "metadata": {},
   "source": [
    "### Shape of the DataFrame\n",
    "To get the shape of the DataFrame (number of rows and columns), we used the `shape` attribute. For example:\n",
    "```python\n",
    "data_shape = df.shape\n",
    "```\n"
   ]
  },
  {
   "cell_type": "code",
   "execution_count": 9,
   "metadata": {},
   "outputs": [
    {
     "data": {
      "text/plain": [
       "(1382, 7)"
      ]
     },
     "execution_count": 9,
     "metadata": {},
     "output_type": "execute_result"
    }
   ],
   "source": [
    "cars_train.shape\n"
   ]
  },
  {
   "cell_type": "markdown",
   "metadata": {},
   "source": [
    "### Column Names\n",
    "To get the column names of the DataFrame, we used the `columns()` method. For example:\n",
    "```python\n",
    "column_names = df.columns\n",
    "```"
   ]
  },
  {
   "cell_type": "code",
   "execution_count": 10,
   "metadata": {},
   "outputs": [],
   "source": [
    "cars_train.columns=['buying','maint','doors','person','lug_boot','safety','classes']\n",
    "cars_test.columns=['buying','maint','doors','persons','lug_boot','safety','classes']"
   ]
  },
  {
   "cell_type": "markdown",
   "metadata": {},
   "source": [
    "\n",
    "### Displaying the First Few Rows\n",
    "To display the first few rows of the DataFrame, we used the `head()` method. For example:\n",
    "```python\n",
    "first_few_rows = df.head()\n",
    "```"
   ]
  },
  {
   "cell_type": "code",
   "execution_count": 11,
   "metadata": {
    "scrolled": true
   },
   "outputs": [
    {
     "data": {
      "text/html": [
       "<div>\n",
       "<style scoped>\n",
       "    .dataframe tbody tr th:only-of-type {\n",
       "        vertical-align: middle;\n",
       "    }\n",
       "\n",
       "    .dataframe tbody tr th {\n",
       "        vertical-align: top;\n",
       "    }\n",
       "\n",
       "    .dataframe thead th {\n",
       "        text-align: right;\n",
       "    }\n",
       "</style>\n",
       "<table border=\"1\" class=\"dataframe\">\n",
       "  <thead>\n",
       "    <tr style=\"text-align: right;\">\n",
       "      <th></th>\n",
       "      <th>buying</th>\n",
       "      <th>maint</th>\n",
       "      <th>doors</th>\n",
       "      <th>person</th>\n",
       "      <th>lug_boot</th>\n",
       "      <th>safety</th>\n",
       "      <th>classes</th>\n",
       "    </tr>\n",
       "  </thead>\n",
       "  <tbody>\n",
       "    <tr>\n",
       "      <th>0</th>\n",
       "      <td>vhigh</td>\n",
       "      <td>high</td>\n",
       "      <td>3</td>\n",
       "      <td>more</td>\n",
       "      <td>small</td>\n",
       "      <td>low</td>\n",
       "      <td>unacc</td>\n",
       "    </tr>\n",
       "    <tr>\n",
       "      <th>1</th>\n",
       "      <td>low</td>\n",
       "      <td>vhigh</td>\n",
       "      <td>3</td>\n",
       "      <td>4</td>\n",
       "      <td>small</td>\n",
       "      <td>med</td>\n",
       "      <td>unacc</td>\n",
       "    </tr>\n",
       "    <tr>\n",
       "      <th>2</th>\n",
       "      <td>low</td>\n",
       "      <td>high</td>\n",
       "      <td>5more</td>\n",
       "      <td>more</td>\n",
       "      <td>big</td>\n",
       "      <td>low</td>\n",
       "      <td>unacc</td>\n",
       "    </tr>\n",
       "    <tr>\n",
       "      <th>3</th>\n",
       "      <td>high</td>\n",
       "      <td>med</td>\n",
       "      <td>4</td>\n",
       "      <td>2</td>\n",
       "      <td>small</td>\n",
       "      <td>med</td>\n",
       "      <td>unacc</td>\n",
       "    </tr>\n",
       "    <tr>\n",
       "      <th>4</th>\n",
       "      <td>low</td>\n",
       "      <td>low</td>\n",
       "      <td>3</td>\n",
       "      <td>more</td>\n",
       "      <td>big</td>\n",
       "      <td>med</td>\n",
       "      <td>good</td>\n",
       "    </tr>\n",
       "  </tbody>\n",
       "</table>\n",
       "</div>"
      ],
      "text/plain": [
       "  buying  maint  doors person lug_boot safety classes\n",
       "0  vhigh   high      3   more    small    low   unacc\n",
       "1    low  vhigh      3      4    small    med   unacc\n",
       "2    low   high  5more   more      big    low   unacc\n",
       "3   high    med      4      2    small    med   unacc\n",
       "4    low    low      3   more      big    med    good"
      ]
     },
     "execution_count": 11,
     "metadata": {},
     "output_type": "execute_result"
    }
   ],
   "source": [
    "cars_train.head()"
   ]
  },
  {
   "cell_type": "code",
   "execution_count": 12,
   "metadata": {},
   "outputs": [
    {
     "data": {
      "text/html": [
       "<div>\n",
       "<style scoped>\n",
       "    .dataframe tbody tr th:only-of-type {\n",
       "        vertical-align: middle;\n",
       "    }\n",
       "\n",
       "    .dataframe tbody tr th {\n",
       "        vertical-align: top;\n",
       "    }\n",
       "\n",
       "    .dataframe thead th {\n",
       "        text-align: right;\n",
       "    }\n",
       "</style>\n",
       "<table border=\"1\" class=\"dataframe\">\n",
       "  <thead>\n",
       "    <tr style=\"text-align: right;\">\n",
       "      <th></th>\n",
       "      <th>buying</th>\n",
       "      <th>maint</th>\n",
       "      <th>doors</th>\n",
       "      <th>persons</th>\n",
       "      <th>lug_boot</th>\n",
       "      <th>safety</th>\n",
       "      <th>classes</th>\n",
       "    </tr>\n",
       "  </thead>\n",
       "  <tbody>\n",
       "    <tr>\n",
       "      <th>0</th>\n",
       "      <td>med</td>\n",
       "      <td>vhigh</td>\n",
       "      <td>5more</td>\n",
       "      <td>4</td>\n",
       "      <td>small</td>\n",
       "      <td>low</td>\n",
       "      <td>unacc</td>\n",
       "    </tr>\n",
       "    <tr>\n",
       "      <th>1</th>\n",
       "      <td>vhigh</td>\n",
       "      <td>high</td>\n",
       "      <td>2</td>\n",
       "      <td>2</td>\n",
       "      <td>big</td>\n",
       "      <td>med</td>\n",
       "      <td>unacc</td>\n",
       "    </tr>\n",
       "    <tr>\n",
       "      <th>2</th>\n",
       "      <td>low</td>\n",
       "      <td>high</td>\n",
       "      <td>2</td>\n",
       "      <td>more</td>\n",
       "      <td>small</td>\n",
       "      <td>low</td>\n",
       "      <td>unacc</td>\n",
       "    </tr>\n",
       "    <tr>\n",
       "      <th>3</th>\n",
       "      <td>vhigh</td>\n",
       "      <td>vhigh</td>\n",
       "      <td>3</td>\n",
       "      <td>2</td>\n",
       "      <td>big</td>\n",
       "      <td>high</td>\n",
       "      <td>unacc</td>\n",
       "    </tr>\n",
       "    <tr>\n",
       "      <th>4</th>\n",
       "      <td>low</td>\n",
       "      <td>med</td>\n",
       "      <td>4</td>\n",
       "      <td>4</td>\n",
       "      <td>med</td>\n",
       "      <td>med</td>\n",
       "      <td>good</td>\n",
       "    </tr>\n",
       "  </tbody>\n",
       "</table>\n",
       "</div>"
      ],
      "text/plain": [
       "  buying  maint  doors persons lug_boot safety classes\n",
       "0    med  vhigh  5more       4    small    low   unacc\n",
       "1  vhigh   high      2       2      big    med   unacc\n",
       "2    low   high      2    more    small    low   unacc\n",
       "3  vhigh  vhigh      3       2      big   high   unacc\n",
       "4    low    med      4       4      med    med    good"
      ]
     },
     "execution_count": 12,
     "metadata": {},
     "output_type": "execute_result"
    }
   ],
   "source": [
    "cars_test.head()"
   ]
  },
  {
   "cell_type": "markdown",
   "metadata": {},
   "source": [
    "\n",
    "### Missing Values\n",
    "To check for missing values in the DataFrame, we used the `isnull().sum()` method. This method returns the count of missing values for each column. For example:\n",
    "```python\n",
    "missing_values_count = df.isnull().sum()\n",
    "```\n"
   ]
  },
  {
   "cell_type": "code",
   "execution_count": 13,
   "metadata": {},
   "outputs": [
    {
     "data": {
      "text/plain": [
       "buying      0\n",
       "maint       0\n",
       "doors       0\n",
       "person      0\n",
       "lug_boot    0\n",
       "safety      0\n",
       "classes     0\n",
       "dtype: int64"
      ]
     },
     "execution_count": 13,
     "metadata": {},
     "output_type": "execute_result"
    }
   ],
   "source": [
    "cars_train.isnull().sum()"
   ]
  },
  {
   "cell_type": "code",
   "execution_count": 14,
   "metadata": {},
   "outputs": [
    {
     "data": {
      "text/plain": [
       "buying      0\n",
       "maint       0\n",
       "doors       0\n",
       "persons     0\n",
       "lug_boot    0\n",
       "safety      0\n",
       "classes     0\n",
       "dtype: int64"
      ]
     },
     "execution_count": 14,
     "metadata": {},
     "output_type": "execute_result"
    }
   ],
   "source": [
    "cars_test.isnull().sum()"
   ]
  },
  {
   "cell_type": "markdown",
   "metadata": {},
   "source": [
    "### Dropping Columns or Rows\n",
    "To drop columns or rows from the DataFrame, we used the `drop()` method. For example, to drop a single column:\n",
    "```python\n",
    "df.drop(columns=['Column_Name'], inplace=True)\n",
    "```\n",
    "To drop multiple columns:\n",
    "```python\n",
    "df.drop(columns=['Column1', 'Column2'], inplace=True)\n",
    "```\n",
    "To drop rows based on index:\n",
    "```python\n",
    "df.drop(index=[0, 1, 2], inplace=True)\n",
    "```\n"
   ]
  },
  {
   "cell_type": "code",
   "execution_count": 15,
   "metadata": {},
   "outputs": [
    {
     "data": {
      "text/html": [
       "<div>\n",
       "<style scoped>\n",
       "    .dataframe tbody tr th:only-of-type {\n",
       "        vertical-align: middle;\n",
       "    }\n",
       "\n",
       "    .dataframe tbody tr th {\n",
       "        vertical-align: top;\n",
       "    }\n",
       "\n",
       "    .dataframe thead th {\n",
       "        text-align: right;\n",
       "    }\n",
       "</style>\n",
       "<table border=\"1\" class=\"dataframe\">\n",
       "  <thead>\n",
       "    <tr style=\"text-align: right;\">\n",
       "      <th></th>\n",
       "      <th>buying</th>\n",
       "      <th>maint</th>\n",
       "      <th>doors</th>\n",
       "      <th>persons</th>\n",
       "      <th>lug_boot</th>\n",
       "      <th>safety</th>\n",
       "    </tr>\n",
       "  </thead>\n",
       "  <tbody>\n",
       "    <tr>\n",
       "      <th>0</th>\n",
       "      <td>med</td>\n",
       "      <td>vhigh</td>\n",
       "      <td>5more</td>\n",
       "      <td>4</td>\n",
       "      <td>small</td>\n",
       "      <td>low</td>\n",
       "    </tr>\n",
       "    <tr>\n",
       "      <th>1</th>\n",
       "      <td>vhigh</td>\n",
       "      <td>high</td>\n",
       "      <td>2</td>\n",
       "      <td>2</td>\n",
       "      <td>big</td>\n",
       "      <td>med</td>\n",
       "    </tr>\n",
       "    <tr>\n",
       "      <th>2</th>\n",
       "      <td>low</td>\n",
       "      <td>high</td>\n",
       "      <td>2</td>\n",
       "      <td>more</td>\n",
       "      <td>small</td>\n",
       "      <td>low</td>\n",
       "    </tr>\n",
       "    <tr>\n",
       "      <th>3</th>\n",
       "      <td>vhigh</td>\n",
       "      <td>vhigh</td>\n",
       "      <td>3</td>\n",
       "      <td>2</td>\n",
       "      <td>big</td>\n",
       "      <td>high</td>\n",
       "    </tr>\n",
       "    <tr>\n",
       "      <th>4</th>\n",
       "      <td>low</td>\n",
       "      <td>med</td>\n",
       "      <td>4</td>\n",
       "      <td>4</td>\n",
       "      <td>med</td>\n",
       "      <td>med</td>\n",
       "    </tr>\n",
       "  </tbody>\n",
       "</table>\n",
       "</div>"
      ],
      "text/plain": [
       "  buying  maint  doors persons lug_boot safety\n",
       "0    med  vhigh  5more       4    small    low\n",
       "1  vhigh   high      2       2      big    med\n",
       "2    low   high      2    more    small    low\n",
       "3  vhigh  vhigh      3       2      big   high\n",
       "4    low    med      4       4      med    med"
      ]
     },
     "execution_count": 15,
     "metadata": {},
     "output_type": "execute_result"
    }
   ],
   "source": [
    "cars_test.drop(\"classes\",axis=1,inplace=True)\n",
    "cars_test.head()"
   ]
  },
  {
   "cell_type": "code",
   "execution_count": 16,
   "metadata": {},
   "outputs": [
    {
     "data": {
      "text/plain": [
       "Index(['buying', 'maint', 'doors', 'person', 'lug_boot', 'safety', 'classes'], dtype='object')"
      ]
     },
     "execution_count": 16,
     "metadata": {},
     "output_type": "execute_result"
    }
   ],
   "source": [
    "colname=cars_train.columns\n",
    "colname"
   ]
  },
  {
   "cell_type": "markdown",
   "metadata": {},
   "source": [
    "## Label Encoding Using a For Loop\n",
    "\n",
    "### Description\n",
    "Label encoding is a technique used to convert categorical variables into numerical representations. In this project, we applied label encoding to multiple columns using a for loop.\n",
    "\n",
    "### Usage\n",
    "We used the `LabelEncoder` from the `sklearn.preprocessing` module to perform label encoding. Here's an example of how we applied label encoding using a for loop:\n",
    "```python\n",
    "from sklearn.preprocessing import LabelEncoder\n",
    "\n",
    "# Initialize LabelEncoder\n",
    "le = LabelEncoder()\n",
    "\n",
    "# Iterate through column names\n",
    "for col in colname:\n",
    "    cars_train[col] = le.fit_transform(cars_train[col])\n",
    "```\n",
    "\n",
    "### Outcome\n",
    "Label encoding replaces categorical values with numerical representations, making it easier for machine learning algorithms to process the data. Using a for loop allows for efficient label encoding of multiple columns in the DataFrame.\n",
    "\n"
   ]
  },
  {
   "cell_type": "code",
   "execution_count": 17,
   "metadata": {},
   "outputs": [],
   "source": [
    "le=LabelEncoder()\n",
    "\n",
    "for x in colname:\n",
    "    cars_train[x]=le.fit_transform(cars_train[x])"
   ]
  },
  {
   "cell_type": "code",
   "execution_count": 18,
   "metadata": {},
   "outputs": [
    {
     "data": {
      "text/html": [
       "<div>\n",
       "<style scoped>\n",
       "    .dataframe tbody tr th:only-of-type {\n",
       "        vertical-align: middle;\n",
       "    }\n",
       "\n",
       "    .dataframe tbody tr th {\n",
       "        vertical-align: top;\n",
       "    }\n",
       "\n",
       "    .dataframe thead th {\n",
       "        text-align: right;\n",
       "    }\n",
       "</style>\n",
       "<table border=\"1\" class=\"dataframe\">\n",
       "  <thead>\n",
       "    <tr style=\"text-align: right;\">\n",
       "      <th></th>\n",
       "      <th>buying</th>\n",
       "      <th>maint</th>\n",
       "      <th>doors</th>\n",
       "      <th>person</th>\n",
       "      <th>lug_boot</th>\n",
       "      <th>safety</th>\n",
       "      <th>classes</th>\n",
       "    </tr>\n",
       "  </thead>\n",
       "  <tbody>\n",
       "    <tr>\n",
       "      <th>0</th>\n",
       "      <td>3</td>\n",
       "      <td>0</td>\n",
       "      <td>1</td>\n",
       "      <td>2</td>\n",
       "      <td>2</td>\n",
       "      <td>1</td>\n",
       "      <td>2</td>\n",
       "    </tr>\n",
       "    <tr>\n",
       "      <th>1</th>\n",
       "      <td>1</td>\n",
       "      <td>3</td>\n",
       "      <td>1</td>\n",
       "      <td>1</td>\n",
       "      <td>2</td>\n",
       "      <td>2</td>\n",
       "      <td>2</td>\n",
       "    </tr>\n",
       "    <tr>\n",
       "      <th>2</th>\n",
       "      <td>1</td>\n",
       "      <td>0</td>\n",
       "      <td>3</td>\n",
       "      <td>2</td>\n",
       "      <td>0</td>\n",
       "      <td>1</td>\n",
       "      <td>2</td>\n",
       "    </tr>\n",
       "    <tr>\n",
       "      <th>3</th>\n",
       "      <td>0</td>\n",
       "      <td>2</td>\n",
       "      <td>2</td>\n",
       "      <td>0</td>\n",
       "      <td>2</td>\n",
       "      <td>2</td>\n",
       "      <td>2</td>\n",
       "    </tr>\n",
       "    <tr>\n",
       "      <th>4</th>\n",
       "      <td>1</td>\n",
       "      <td>1</td>\n",
       "      <td>1</td>\n",
       "      <td>2</td>\n",
       "      <td>0</td>\n",
       "      <td>2</td>\n",
       "      <td>1</td>\n",
       "    </tr>\n",
       "  </tbody>\n",
       "</table>\n",
       "</div>"
      ],
      "text/plain": [
       "   buying  maint  doors  person  lug_boot  safety  classes\n",
       "0       3      0      1       2         2       1        2\n",
       "1       1      3      1       1         2       2        2\n",
       "2       1      0      3       2         0       1        2\n",
       "3       0      2      2       0         2       2        2\n",
       "4       1      1      1       2         0       2        1"
      ]
     },
     "execution_count": 18,
     "metadata": {},
     "output_type": "execute_result"
    }
   ],
   "source": [
    "cars_train.head()\n",
    "#acc ==> 0\n",
    "#good ==> 1\n",
    "#unacc ==> 2\n",
    "#vgood ==> 3"
   ]
  },
  {
   "cell_type": "code",
   "execution_count": 19,
   "metadata": {},
   "outputs": [
    {
     "data": {
      "text/plain": [
       "Index(['buying', 'maint', 'doors', 'persons', 'lug_boot', 'safety'], dtype='object')"
      ]
     },
     "execution_count": 19,
     "metadata": {},
     "output_type": "execute_result"
    }
   ],
   "source": [
    "colname=cars_test.columns\n",
    "colname"
   ]
  },
  {
   "cell_type": "code",
   "execution_count": 20,
   "metadata": {},
   "outputs": [],
   "source": [
    "le=LabelEncoder()\n",
    "\n",
    "for x in colname:\n",
    "    cars_test[x]=le.fit_transform(cars_test[x])"
   ]
  },
  {
   "cell_type": "code",
   "execution_count": 21,
   "metadata": {},
   "outputs": [
    {
     "data": {
      "text/html": [
       "<div>\n",
       "<style scoped>\n",
       "    .dataframe tbody tr th:only-of-type {\n",
       "        vertical-align: middle;\n",
       "    }\n",
       "\n",
       "    .dataframe tbody tr th {\n",
       "        vertical-align: top;\n",
       "    }\n",
       "\n",
       "    .dataframe thead th {\n",
       "        text-align: right;\n",
       "    }\n",
       "</style>\n",
       "<table border=\"1\" class=\"dataframe\">\n",
       "  <thead>\n",
       "    <tr style=\"text-align: right;\">\n",
       "      <th></th>\n",
       "      <th>buying</th>\n",
       "      <th>maint</th>\n",
       "      <th>doors</th>\n",
       "      <th>persons</th>\n",
       "      <th>lug_boot</th>\n",
       "      <th>safety</th>\n",
       "    </tr>\n",
       "  </thead>\n",
       "  <tbody>\n",
       "    <tr>\n",
       "      <th>0</th>\n",
       "      <td>2</td>\n",
       "      <td>3</td>\n",
       "      <td>3</td>\n",
       "      <td>1</td>\n",
       "      <td>2</td>\n",
       "      <td>1</td>\n",
       "    </tr>\n",
       "    <tr>\n",
       "      <th>1</th>\n",
       "      <td>3</td>\n",
       "      <td>0</td>\n",
       "      <td>0</td>\n",
       "      <td>0</td>\n",
       "      <td>0</td>\n",
       "      <td>2</td>\n",
       "    </tr>\n",
       "    <tr>\n",
       "      <th>2</th>\n",
       "      <td>1</td>\n",
       "      <td>0</td>\n",
       "      <td>0</td>\n",
       "      <td>2</td>\n",
       "      <td>2</td>\n",
       "      <td>1</td>\n",
       "    </tr>\n",
       "    <tr>\n",
       "      <th>3</th>\n",
       "      <td>3</td>\n",
       "      <td>3</td>\n",
       "      <td>1</td>\n",
       "      <td>0</td>\n",
       "      <td>0</td>\n",
       "      <td>0</td>\n",
       "    </tr>\n",
       "    <tr>\n",
       "      <th>4</th>\n",
       "      <td>1</td>\n",
       "      <td>2</td>\n",
       "      <td>2</td>\n",
       "      <td>1</td>\n",
       "      <td>1</td>\n",
       "      <td>2</td>\n",
       "    </tr>\n",
       "  </tbody>\n",
       "</table>\n",
       "</div>"
      ],
      "text/plain": [
       "   buying  maint  doors  persons  lug_boot  safety\n",
       "0       2      3      3        1         2       1\n",
       "1       3      0      0        0         0       2\n",
       "2       1      0      0        2         2       1\n",
       "3       3      3      1        0         0       0\n",
       "4       1      2      2        1         1       2"
      ]
     },
     "execution_count": 21,
     "metadata": {},
     "output_type": "execute_result"
    }
   ],
   "source": [
    "cars_test.head()\n",
    "#acc ==> 0\n",
    "#good ==> 1\n",
    "#unacc ==> 2\n",
    "#vgood ==> 3"
   ]
  },
  {
   "cell_type": "markdown",
   "metadata": {},
   "source": [
    "## Feature Selection\n",
    "\n",
    "### Description\n",
    "Feature selection is a crucial step in machine learning where we select the input features (X) and the target variable (y) for training our model. In this project, we extracted the features (X) and the target variable (y) from the dataset.\n",
    "\n",
    "### Usage\n",
    "We used NumPy arrays to extract the features (X) and the target variable (y) from the DataFrame. Here's how we did it:\n",
    "```python\n",
    "x = cars_train.values[:, 0:-1]\n",
    "y = cars_train.values[:, -1]\n",
    "```\n",
    "\n",
    "### Explanation\n",
    "- `x`: Represents the input features (independent variables) used for training the model. We extracted all rows and columns from the DataFrame except for the last column, which contains the target variable.\n",
    "- `y`: Represents the target variable (dependent variable) used for training the model. We extracted all rows from the last column of the DataFrame.\n",
    "\n",
    "### Outcome\n",
    "By separating the features (X) and the target variable (y), we are able to train our machine learning model using the appropriate input data and target variable.\n",
    "\n"
   ]
  },
  {
   "cell_type": "code",
   "execution_count": 22,
   "metadata": {},
   "outputs": [],
   "source": [
    "x=cars_train.values[:,0:-1]   # --> 0 to -2\n",
    "y=cars_train.values[:,-1]"
   ]
  },
  {
   "cell_type": "markdown",
   "metadata": {},
   "source": [
    "## Data Type Conversion\n",
    "\n",
    "We converted the data type of the target variable `y` from float to integer using the `astype(int)` method.\n"
   ]
  },
  {
   "cell_type": "code",
   "execution_count": 23,
   "metadata": {},
   "outputs": [
    {
     "name": "stdout",
     "output_type": "stream",
     "text": [
      "(1382, 6)\n",
      "(1382,)\n"
     ]
    }
   ],
   "source": [
    "y=y.astype(int)\n",
    "print(x.shape)\n",
    "print(y.shape)"
   ]
  },
  {
   "cell_type": "markdown",
   "metadata": {},
   "source": [
    "## Feature Scaling\n",
    "\n",
    "### Description\n",
    "Feature scaling is a technique used to standardize the range of independent variables or features in the dataset. In this project, we applied feature scaling to the input features (X) using the `StandardScaler` method.\n",
    "\n",
    "### Usage\n",
    "We used the `StandardScaler` from the `sklearn.preprocessing` module to perform feature scaling. Here's how we did it:\n",
    "```python\n",
    "scaler = StandardScaler()\n",
    "scaler.fit(x)\n",
    "x = scaler.transform(x)\n",
    "```\n",
    "\n"
   ]
  },
  {
   "cell_type": "code",
   "execution_count": 24,
   "metadata": {},
   "outputs": [],
   "source": [
    "scaler = StandardScaler()\n",
    "scaler.fit(x)\n",
    "x=scaler.transform(x)"
   ]
  },
  {
   "cell_type": "markdown",
   "metadata": {},
   "source": [
    "\n",
    "### Explanation\n",
    "- `scaler`: Represents the StandardScaler object used to scale the features.\n",
    "- `fit(x)`: Computes the mean and standard deviation of each feature in the training dataset (x).\n",
    "- `transform(x)`: Standardizes the input features (x) using the computed mean and standard deviation.\n"
   ]
  },
  {
   "cell_type": "code",
   "execution_count": 25,
   "metadata": {
    "scrolled": true
   },
   "outputs": [
    {
     "name": "stdout",
     "output_type": "stream",
     "text": [
      "[[ 1.33507272 -1.3488262  -0.45682233  1.21505861  1.22565305  0.00176987]\n",
      " [-0.44760409  1.32688358 -0.45682233 -0.01064285  1.22565305  1.22474807]\n",
      " [-0.44760409 -1.3488262   1.33418038  1.21505861 -1.21505663  0.00176987]\n",
      " ...\n",
      " [-1.33894249  1.32688358  1.33418038 -0.01064285  0.00529821 -1.22120833]\n",
      " [ 0.44373431  0.43498032  0.43867903 -0.01064285 -1.21505663  0.00176987]\n",
      " [ 0.44373431 -0.45692294  1.33418038  1.21505861  1.22565305 -1.22120833]]\n"
     ]
    }
   ],
   "source": [
    "print(x)"
   ]
  },
  {
   "cell_type": "markdown",
   "metadata": {},
   "source": [
    "### Outcome\n",
    "Feature scaling ensures that all features have the same scale, which can improve the performance and convergence of machine learning algorithms, especially those that are sensitive to feature scaling, such as gradient descent-based algorithms."
   ]
  },
  {
   "cell_type": "markdown",
   "metadata": {},
   "source": [
    "## Train-Test Split\n",
    "\n",
    "### Description\n",
    "Train-test split is a technique used to divide the dataset into two subsets: one for training the model and the other for testing the model's performance. In this project, we split the dataset into training and testing sets using the `train_test_split` method.\n",
    "\n",
    "### Usage\n",
    "We used the `train_test_split` function from the `sklearn.model_selection` module to split the dataset. Here's how we did it:\n",
    "```python\n",
    "from sklearn.model_selection import train_test_split\n",
    "\n",
    "# Split the data into train and test sets\n",
    "x_train, x_test, y_train, y_test = train_test_split(x, y, test_size=0.2, random_state=10)\n",
    "```\n",
    "\n"
   ]
  },
  {
   "cell_type": "code",
   "execution_count": 26,
   "metadata": {},
   "outputs": [],
   "source": [
    "from sklearn.model_selection import train_test_split\n",
    "\n",
    "#Split the data into test and train\n",
    "x_train,x_test,y_train,y_test = train_test_split(x,y,test_size=0.2,random_state=10)"
   ]
  },
  {
   "cell_type": "markdown",
   "metadata": {},
   "source": [
    "### Explanation\n",
    "- `x_train`: Represents the features (input variables) of the training set.\n",
    "- `x_test`: Represents the features (input variables) of the testing set.\n",
    "- `y_train`: Represents the target variable (output variable) of the training set.\n",
    "- `y_test`: Represents the target variable (output variable) of the testing set.\n",
    "- `test_size`: Specifies the proportion of the dataset to include in the testing set (e.g., 0.2 for 20%).\n",
    "- `random_state`: Controls the randomness of the data splitting process to ensure reproducibility.\n",
    "\n",
    "### Outcome\n",
    "Train-test split allows us to evaluate the performance of the machine learning model on unseen data, which helps assess its generalization ability and avoid overfitting.\n"
   ]
  },
  {
   "cell_type": "code",
   "execution_count": 27,
   "metadata": {},
   "outputs": [
    {
     "name": "stdout",
     "output_type": "stream",
     "text": [
      "(1105, 6)\n",
      "(1105,)\n",
      "(277, 6)\n",
      "(277,)\n"
     ]
    }
   ],
   "source": [
    "print(x_train.shape)\n",
    "print(y_train.shape)\n",
    "print(x_test.shape)\n",
    "print(y_test.shape)"
   ]
  },
  {
   "cell_type": "markdown",
   "metadata": {},
   "source": [
    "## Model Creation and Fitting\n",
    "\n",
    "### Description\n",
    "In machine learning, creating a model involves selecting an appropriate algorithm and configuring its parameters. Once the model is created, it is trained using the training dataset to learn patterns and relationships between features and target variables. In this project, we created a Decision Tree model and fitted it to the training data.\n",
    "\n",
    "### Usage\n",
    "We used the `DecisionTreeClassifier` class from the `sklearn.tree` module to create a Decision Tree model. Here's how we did it:\n",
    "```python\n",
    "from sklearn.tree import DecisionTreeClassifier\n",
    "\n",
    "# Create a Decision Tree model\n",
    "model_DecisionTree = DecisionTreeClassifier(random_state=10)\n",
    "\n",
    "# Fit the model to the training data\n",
    "model_DecisionTree.fit(x_train, y_train)\n",
    "```\n",
    "\n",
    "\n"
   ]
  },
  {
   "cell_type": "code",
   "execution_count": 28,
   "metadata": {},
   "outputs": [
    {
     "name": "stdout",
     "output_type": "stream",
     "text": [
      "[(2, 2), (2, 2), (2, 2), (2, 2), (2, 2), (2, 2), (0, 0), (2, 2), (2, 2), (1, 1), (0, 0), (2, 2), (2, 2), (2, 2), (2, 2), (2, 2), (2, 2), (2, 2), (2, 2), (0, 0), (0, 2), (2, 2), (2, 2), (2, 2), (2, 2), (2, 2), (2, 2), (2, 2), (0, 0), (2, 2), (0, 0), (1, 0), (2, 2), (2, 2), (2, 2), (0, 0), (2, 2), (2, 2), (0, 0), (2, 2), (2, 2), (2, 2), (2, 2), (2, 2), (3, 3), (0, 0), (2, 2), (0, 0), (3, 3), (0, 0), (2, 2), (0, 0), (2, 2), (2, 2), (2, 2), (2, 2), (2, 2), (2, 2), (0, 0), (2, 2), (0, 0), (2, 2), (2, 2), (0, 0), (2, 2), (2, 2), (1, 0), (2, 2), (0, 0), (0, 0), (2, 2), (2, 2), (0, 0), (3, 3), (0, 0), (0, 0), (2, 2), (2, 2), (0, 0), (2, 2), (0, 0), (2, 2), (2, 2), (0, 0), (2, 2), (2, 2), (0, 0), (2, 2), (2, 2), (2, 2), (0, 0), (2, 2), (2, 2), (0, 0), (2, 2), (2, 2), (2, 2), (2, 2), (2, 2), (0, 0), (3, 3), (2, 2), (2, 2), (0, 0), (0, 0), (2, 2), (2, 2), (2, 2), (0, 0), (2, 2), (0, 0), (3, 3), (2, 2), (0, 0), (3, 3), (2, 2), (2, 2), (2, 2), (2, 2), (2, 2), (3, 3), (2, 2), (0, 0), (2, 2), (0, 0), (2, 2), (2, 2), (0, 0), (2, 2), (2, 2), (2, 2), (2, 2), (0, 0), (2, 2), (2, 2), (2, 2), (2, 2), (0, 0), (2, 2), (2, 2), (2, 2), (0, 0), (2, 2), (2, 2), (2, 2), (0, 0), (0, 0), (2, 2), (2, 2), (2, 2), (2, 2), (2, 2), (0, 0), (2, 2), (2, 2), (1, 0), (2, 2), (2, 2), (2, 2), (2, 2), (2, 2), (2, 2), (1, 1), (2, 2), (2, 2), (2, 2), (3, 3), (0, 1), (0, 0), (2, 2), (2, 2), (0, 0), (2, 2), (2, 2), (2, 2), (2, 2), (2, 2), (0, 0), (2, 2), (0, 0), (0, 0), (2, 2), (2, 2), (2, 2), (2, 2), (2, 2), (2, 2), (2, 2), (2, 2), (2, 2), (2, 2), (2, 2), (2, 2), (2, 2), (2, 2), (0, 0), (2, 2), (2, 2), (2, 2), (2, 2), (2, 2), (2, 2), (2, 2), (1, 1), (0, 0), (2, 2), (2, 2), (2, 2), (2, 2), (2, 2), (0, 0), (0, 0), (2, 2), (3, 3), (1, 1), (2, 2), (2, 2), (0, 0), (0, 0), (2, 2), (0, 0), (0, 0), (0, 0), (2, 2), (2, 2), (0, 0), (2, 2), (2, 2), (2, 2), (2, 2), (0, 0), (0, 0), (0, 0), (2, 2), (2, 2), (2, 2), (0, 0), (2, 2), (0, 0), (2, 2), (1, 0), (0, 0), (0, 0), (1, 1), (1, 1), (2, 2), (2, 2), (2, 2), (0, 0), (2, 2), (2, 2), (2, 2), (2, 2), (0, 0), (1, 1), (2, 2), (2, 2), (2, 2), (2, 2), (2, 2), (0, 0), (2, 2), (2, 2), (2, 2), (2, 2), (2, 2), (0, 0), (2, 2), (2, 2), (0, 0), (0, 0), (2, 2), (2, 2), (1, 1), (0, 0), (2, 2), (2, 2)]\n"
     ]
    }
   ],
   "source": [
    "#create a model\n",
    "model_DecisionTree=DecisionTreeClassifier(random_state=10) # ,splitter='best',\n",
    "                                          # criterion ='entropy',min_samples_split=5,\n",
    "                                          # min_samples_leaf=3,max_depth=10)\n",
    "#min_samples_leaf, min_samples_split, max_depth, max_features, max_leaf_nodes\n",
    "\n",
    "#fitting training data to the model\n",
    "model_DecisionTree.fit(x_train,y_train)\n",
    "\n",
    "y_pred=model_DecisionTree.predict(x_test)\n",
    "#print(y_pred)\n",
    "print(list(zip(y_test,y_pred)))"
   ]
  },
  {
   "cell_type": "markdown",
   "metadata": {},
   "source": [
    "### Explanation\n",
    "- `model_DecisionTree`: Represents the Decision Tree model created with default parameters. Additional parameters, such as `splitter`, `criterion`, `min_samples_split`, `min_samples_leaf`, `max_depth`, `max_features`, and `max_leaf_nodes`, can be specified for customization.\n",
    "- `x_train`: Represents the features (input variables) of the training set.\n",
    "- `y_train`: Represents the target variable (output variable) of the training set.\n",
    "\n",
    "### Outcome\n",
    "The model is trained on the training data, and patterns and relationships are learned from the features to predict the target variable. Once trained, the model can be used to make predictions on unseen data.\n"
   ]
  },
  {
   "cell_type": "markdown",
   "metadata": {},
   "source": [
    "----------------------------------"
   ]
  },
  {
   "cell_type": "markdown",
   "metadata": {},
   "source": [
    "## Model Evaluation\n",
    "\n",
    "### Confusion Matrix\n",
    "A confusion matrix is a table that is often used to describe the performance of a classification model on a set of test data for which the true values are known. It allows visualization of the performance of an algorithm. In this project, we generated the confusion matrix using the `confusion_matrix` function.\n",
    "\n",
    "```python\n",
    "cfm = confusion_matrix(y_test, y_pred)\n",
    "print(cfm)\n",
    "```\n",
    "\n",
    "### Classification Report\n",
    "A classification report is used to evaluate the quality of predictions from a classification algorithm. It provides various metrics such as precision, recall, F1-score, and support for each class. In this project, we generated the classification report using the `classification_report` function.\n",
    "\n",
    "```python\n",
    "print(\"Classification report:\")\n",
    "print(classification_report(y_test, y_pred))\n",
    "```\n",
    "\n",
    "### Accuracy Score\n",
    "Accuracy is the ratio of correctly predicted observations to the total observations. It is one of the most straightforward metrics used for evaluating classification models. In this project, we calculated the accuracy score using the `accuracy_score` function.\n",
    "\n",
    "```python\n",
    "acc = accuracy_score(y_test, y_pred)\n",
    "print(\"Accuracy of the model:\", acc * 100, \"%\")\n",
    "```"
   ]
  },
  {
   "cell_type": "markdown",
   "metadata": {},
   "source": [
    "### Outcome\n",
    "The confusion matrix provides insights into the model's performance by showing the number of correct and incorrect predictions for each class. The classification report presents precision, recall, F1-score, and support for each class, allowing a comprehensive evaluation of the model's performance. The accuracy score represents the overall accuracy of the model in predicting the target variable."
   ]
  },
  {
   "cell_type": "code",
   "execution_count": 29,
   "metadata": {},
   "outputs": [
    {
     "name": "stdout",
     "output_type": "stream",
     "text": [
      "[[ 69   1   1   0]\n",
      " [  4   8   0   0]\n",
      " [  0   0 185   0]\n",
      " [  0   0   0   9]]\n",
      "Classification report: \n",
      "              precision    recall  f1-score   support\n",
      "\n",
      "           0       0.95      0.97      0.96        71\n",
      "           1       0.89      0.67      0.76        12\n",
      "           2       0.99      1.00      1.00       185\n",
      "           3       1.00      1.00      1.00         9\n",
      "\n",
      "    accuracy                           0.98       277\n",
      "   macro avg       0.96      0.91      0.93       277\n",
      "weighted avg       0.98      0.98      0.98       277\n",
      "\n",
      "Accuracy of the model:  97.83393501805054 %\n"
     ]
    }
   ],
   "source": [
    "cfm=confusion_matrix(y_test,y_pred)\n",
    "print(cfm)\n",
    "\n",
    "print(\"Classification report: \")\n",
    "\n",
    "print(classification_report(y_test,y_pred))\n",
    "\n",
    "acc=accuracy_score(y_test,y_pred)\n",
    "print(\"Accuracy of the model: \",acc*100,'%')"
   ]
  },
  {
   "cell_type": "markdown",
   "metadata": {},
   "source": [
    "## Model Performance on Training Set\n",
    "\n",
    "We evaluated the performance of the Decision Tree model on the training set using the `score` method. The score represents the accuracy of the model's predictions on the training data.\n"
   ]
  },
  {
   "cell_type": "code",
   "execution_count": 30,
   "metadata": {
    "scrolled": true
   },
   "outputs": [
    {
     "data": {
      "text/plain": [
       "1.0"
      ]
     },
     "execution_count": 30,
     "metadata": {},
     "output_type": "execute_result"
    }
   ],
   "source": [
    "model_DecisionTree.score(x_train, y_train)"
   ]
  },
  {
   "cell_type": "markdown",
   "metadata": {},
   "source": [
    "## Feature Importances\n",
    "\n",
    "We calculated the feature importances of the Decision Tree model using the `feature_importances_` attribute. This attribute provides information about the importance of each feature in predicting the target variable.\n",
    "\n",
    "```python\n",
    "print(list(zip(cars_train.columns[0:-1], model_DecisionTree.feature_importances_)))\n",
    "```\n",
    "\n",
    "The output is a list of tuples, where each tuple contains the name of a feature and its corresponding importance score assigned by the model.\n"
   ]
  },
  {
   "cell_type": "code",
   "execution_count": 31,
   "metadata": {},
   "outputs": [
    {
     "name": "stdout",
     "output_type": "stream",
     "text": [
      "[('buying', 0.21976792783843332), ('maint', 0.18220929667385857), ('doors', 0.062005934167191426), ('person', 0.19425872158174767), ('lug_boot', 0.09772725134941933), ('safety', 0.24403086838934968)]\n"
     ]
    }
   ],
   "source": [
    "print(list(zip(cars_train.columns[0:-1],model_DecisionTree.feature_importances_)))"
   ]
  },
  {
   "cell_type": "code",
   "execution_count": 32,
   "metadata": {},
   "outputs": [
    {
     "data": {
      "text/html": [
       "<div>\n",
       "<style scoped>\n",
       "    .dataframe tbody tr th:only-of-type {\n",
       "        vertical-align: middle;\n",
       "    }\n",
       "\n",
       "    .dataframe tbody tr th {\n",
       "        vertical-align: top;\n",
       "    }\n",
       "\n",
       "    .dataframe thead th {\n",
       "        text-align: right;\n",
       "    }\n",
       "</style>\n",
       "<table border=\"1\" class=\"dataframe\">\n",
       "  <thead>\n",
       "    <tr style=\"text-align: right;\">\n",
       "      <th></th>\n",
       "      <th>Column</th>\n",
       "      <th>Imp value</th>\n",
       "    </tr>\n",
       "  </thead>\n",
       "  <tbody>\n",
       "    <tr>\n",
       "      <th>5</th>\n",
       "      <td>safety</td>\n",
       "      <td>0.244031</td>\n",
       "    </tr>\n",
       "    <tr>\n",
       "      <th>0</th>\n",
       "      <td>buying</td>\n",
       "      <td>0.219768</td>\n",
       "    </tr>\n",
       "    <tr>\n",
       "      <th>3</th>\n",
       "      <td>person</td>\n",
       "      <td>0.194259</td>\n",
       "    </tr>\n",
       "    <tr>\n",
       "      <th>1</th>\n",
       "      <td>maint</td>\n",
       "      <td>0.182209</td>\n",
       "    </tr>\n",
       "    <tr>\n",
       "      <th>4</th>\n",
       "      <td>lug_boot</td>\n",
       "      <td>0.097727</td>\n",
       "    </tr>\n",
       "    <tr>\n",
       "      <th>2</th>\n",
       "      <td>doors</td>\n",
       "      <td>0.062006</td>\n",
       "    </tr>\n",
       "  </tbody>\n",
       "</table>\n",
       "</div>"
      ],
      "text/plain": [
       "     Column  Imp value\n",
       "5    safety   0.244031\n",
       "0    buying   0.219768\n",
       "3    person   0.194259\n",
       "1     maint   0.182209\n",
       "4  lug_boot   0.097727\n",
       "2     doors   0.062006"
      ]
     },
     "execution_count": 32,
     "metadata": {},
     "output_type": "execute_result"
    }
   ],
   "source": [
    "sample = pd.DataFrame()\n",
    "sample['Column']=cars_train.columns[0:-1]\n",
    "sample['Imp value']=model_DecisionTree.feature_importances_\n",
    "\n",
    "sample.sort_values(\"Imp value\",ascending=False)"
   ]
  },
  {
   "cell_type": "markdown",
   "metadata": {},
   "source": [
    "## Export Decision Tree Model as Graphviz File\n",
    "\n",
    "We exported the Decision Tree model as a Graphviz file using the `export_graphviz` function from the `sklearn.tree` module. This allows us to visualize the Decision Tree's structure and decision-making process.\n",
    "\n",
    "```python\n",
    "with open(r\"model_DecisionTree.txt\", \"w\") as f:\n",
    "    f = tree.export_graphviz(model_DecisionTree, feature_names=cars_train.columns[0:-1], out_file=f)\n",
    "```\n",
    "\n",
    "### Visualization\n",
    "To visualize the Decision Tree, you can generate the file and upload the code in a Graphviz viewer such as [webgraphviz.com](http://www.webgraphviz.com/) or use the Graphviz software locally.\n",
    "\n"
   ]
  },
  {
   "cell_type": "code",
   "execution_count": 33,
   "metadata": {},
   "outputs": [],
   "source": [
    "\n",
    "with open(r\"model_DecisionTree.txt\",\"w\") as f:\n",
    "    f = tree.export_graphviz(model_DecisionTree, feature_names=cars_train.columns[0:-1],\n",
    "                            out_file=f)\n",
    "\n",
    "# generate the file and upload the code in webgraphviz.com to plot the decision tree"
   ]
  },
  {
   "cell_type": "markdown",
   "metadata": {},
   "source": [
    "## Logistic Regression Model Evaluation\n",
    "\n",
    "### Description\n",
    "We created a Logistic Regression model to evaluate its performance on the dataset. Logistic Regression is a classification algorithm commonly used for binary classification tasks. In this project, we used it to predict the target variable based on the input features.\n",
    "\n",
    "### Usage\n",
    "We instantiated a LogisticRegression classifier and fitted it to the training data. Then, we used the trained model to make predictions on the test data.\n",
    "\n",
    "```python\n",
    "# Create a Logistic Regression model\n",
    "classifier = LogisticRegression()\n",
    "\n",
    "# Fit the model to the training data\n",
    "classifier.fit(x_train, y_train)\n",
    "\n",
    "# Make predictions on the test data\n",
    "y_pred = classifier.predict(x_test)\n",
    "print(y_pred)\n",
    "```\n",
    "\n"
   ]
  },
  {
   "cell_type": "code",
   "execution_count": 34,
   "metadata": {},
   "outputs": [
    {
     "name": "stdout",
     "output_type": "stream",
     "text": [
      "[2 2 2 2 2 0 2 2 2 0 0 2 0 2 2 2 2 2 0 2 2 2 2 0 2 2 2 2 3 0 2 2 2 0 2 2 2\n",
      " 2 2 2 2 2 0 2 0 2 2 2 0 2 2 2 2 2 2 2 2 2 2 2 2 2 0 2 2 2 2 2 2 2 2 2 0 3\n",
      " 2 2 2 2 2 2 2 2 2 2 2 2 2 0 2 2 2 2 2 2 2 2 2 2 2 2 0 2 2 2 2 0 2 2 2 2 2\n",
      " 0 2 0 0 2 2 2 2 2 2 2 2 2 0 2 2 0 2 2 0 2 2 2 0 2 2 2 2 2 2 2 2 2 2 2 2 2\n",
      " 2 2 2 2 0 2 2 2 2 2 2 2 2 0 2 2 2 2 2 2 2 2 2 0 2 2 2 2 2 2 2 2 2 0 2 2 2\n",
      " 2 2 2 2 2 2 2 2 2 2 2 0 2 2 2 2 2 2 2 0 2 0 2 2 2 0 2 2 0 2 2 2 2 2 2 2 2\n",
      " 2 2 2 2 2 2 2 2 2 0 0 2 2 0 2 2 2 2 2 2 2 0 2 2 2 2 2 2 2 2 2 2 2 2 2 2 2\n",
      " 2 3 2 2 2 2 2 2 2 2 2 2 0 2 2 2 2 2]\n"
     ]
    }
   ],
   "source": [
    "\n",
    "#create a model\n",
    "classifier=LogisticRegression()\n",
    "#fitting training data to the model\n",
    "classifier.fit(x_train,y_train)\n",
    "\n",
    "y_pred=classifier.predict(x_test)\n",
    "print(y_pred)"
   ]
  },
  {
   "cell_type": "markdown",
   "metadata": {},
   "source": [
    "### Outcome\n",
    "The `y_pred` variable contains the predicted labels generated by the Logistic Regression model. We can further evaluate the model's performance using metrics such as accuracy, precision, recall, and F1-score.\n"
   ]
  },
  {
   "cell_type": "code",
   "execution_count": 35,
   "metadata": {},
   "outputs": [
    {
     "name": "stdout",
     "output_type": "stream",
     "text": [
      "[[ 11   0  58   2]\n",
      " [  2   0  10   0]\n",
      " [ 18   0 167   0]\n",
      " [  6   0   2   1]]\n",
      "Classification report: \n",
      "              precision    recall  f1-score   support\n",
      "\n",
      "           0       0.30      0.15      0.20        71\n",
      "           1       0.00      0.00      0.00        12\n",
      "           2       0.70      0.90      0.79       185\n",
      "           3       0.33      0.11      0.17         9\n",
      "\n",
      "    accuracy                           0.65       277\n",
      "   macro avg       0.33      0.29      0.29       277\n",
      "weighted avg       0.56      0.65      0.59       277\n",
      "\n",
      "Accuracy of the model:  64.62093862815884 %\n"
     ]
    },
    {
     "name": "stderr",
     "output_type": "stream",
     "text": [
      "C:\\Users\\NITRO\\anaconda3\\lib\\site-packages\\sklearn\\metrics\\_classification.py:1318: UndefinedMetricWarning: Precision and F-score are ill-defined and being set to 0.0 in labels with no predicted samples. Use `zero_division` parameter to control this behavior.\n",
      "  _warn_prf(average, modifier, msg_start, len(result))\n",
      "C:\\Users\\NITRO\\anaconda3\\lib\\site-packages\\sklearn\\metrics\\_classification.py:1318: UndefinedMetricWarning: Precision and F-score are ill-defined and being set to 0.0 in labels with no predicted samples. Use `zero_division` parameter to control this behavior.\n",
      "  _warn_prf(average, modifier, msg_start, len(result))\n",
      "C:\\Users\\NITRO\\anaconda3\\lib\\site-packages\\sklearn\\metrics\\_classification.py:1318: UndefinedMetricWarning: Precision and F-score are ill-defined and being set to 0.0 in labels with no predicted samples. Use `zero_division` parameter to control this behavior.\n",
      "  _warn_prf(average, modifier, msg_start, len(result))\n"
     ]
    }
   ],
   "source": [
    "from sklearn.metrics import confusion_matrix, accuracy_score , classification_report\n",
    "\n",
    "cfm=confusion_matrix(y_test,y_pred)\n",
    "print(cfm)\n",
    "\n",
    "print(\"Classification report: \")\n",
    "\n",
    "print(classification_report(y_test,y_pred))\n",
    "\n",
    "acc=accuracy_score(y_test,y_pred)\n",
    "print(\"Accuracy of the model: \",acc*100,'%')"
   ]
  },
  {
   "cell_type": "markdown",
   "metadata": {},
   "source": [
    "## Multi-Model Testing"
   ]
  },
  {
   "cell_type": "markdown",
   "metadata": {},
   "source": [
    "### Description\n",
    "In this step, we performed a multi-model testing to evaluate the performance of various classification algorithms on the dataset. We initialized four different classifiers: Decision Tree, K-Nearest Neighbors (KNN), Support Vector Machine (SVM), and Logistic Regression. Then, we created a list containing these classifier objects."
   ]
  },
  {
   "cell_type": "code",
   "execution_count": 36,
   "metadata": {},
   "outputs": [],
   "source": [
    "from sklearn.tree import DecisionTreeClassifier\n",
    "from sklearn.svm import SVC\n",
    "from sklearn.neighbors import KNeighborsClassifier\n",
    "from sklearn.linear_model import LogisticRegression\n",
    " \n",
    "# first, initialize the classificators\n",
    "tree= DecisionTreeClassifier(random_state=10) # using the random state for reproducibility\n",
    "knn= KNeighborsClassifier(n_neighbors=5,metric='euclidean')\n",
    "svm= SVC(kernel=\"rbf\", gamma=0.1, C=90,random_state=10)\n",
    "logreg=LogisticRegression(multi_class=\"multinomial\",random_state=10)"
   ]
  },
  {
   "cell_type": "code",
   "execution_count": 37,
   "metadata": {},
   "outputs": [],
   "source": [
    "# now, create a list with the objects \n",
    "models= [tree, knn, svm, logreg]"
   ]
  },
  {
   "cell_type": "markdown",
   "metadata": {},
   "source": [
    "### Usage\n",
    "We used a for loop to iterate through each model in the list and performed the following steps:\n",
    "1. Fit the model to the training data.\n",
    "2. Predicted the target variable using the trained model on the test data.\n",
    "3. Calculated the accuracy score, confusion matrix, and classification report to evaluate the model's performance.\n",
    "4. Printed the accuracy score, confusion matrix, classification report, and model's score (if applicable) for each model.\n"
   ]
  },
  {
   "cell_type": "code",
   "execution_count": 38,
   "metadata": {},
   "outputs": [
    {
     "name": "stdout",
     "output_type": "stream",
     "text": [
      "[[ 69   1   1   0]\n",
      " [  4   8   0   0]\n",
      " [  0   0 185   0]\n",
      " [  0   0   0   9]]\n",
      "The accuracy of the  DecisionTreeClassifier  model is  97.83393501805054\n",
      "Classification report:\n",
      "               precision    recall  f1-score   support\n",
      "\n",
      "           0       0.95      0.97      0.96        71\n",
      "           1       0.89      0.67      0.76        12\n",
      "           2       0.99      1.00      1.00       185\n",
      "           3       1.00      1.00      1.00         9\n",
      "\n",
      "    accuracy                           0.98       277\n",
      "   macro avg       0.96      0.91      0.93       277\n",
      "weighted avg       0.98      0.98      0.98       277\n",
      "\n",
      "\n",
      "\n",
      "Score of the model:  100.0\n",
      "\n",
      "\n",
      "[[ 65   1   5   0]\n",
      " [  8   4   0   0]\n",
      " [  1   0 184   0]\n",
      " [  2   0   1   6]]\n",
      "The accuracy of the  KNeighborsClassifier  model is  93.50180505415162\n",
      "Classification report:\n",
      "               precision    recall  f1-score   support\n",
      "\n",
      "           0       0.86      0.92      0.88        71\n",
      "           1       0.80      0.33      0.47        12\n",
      "           2       0.97      0.99      0.98       185\n",
      "           3       1.00      0.67      0.80         9\n",
      "\n",
      "    accuracy                           0.94       277\n",
      "   macro avg       0.91      0.73      0.78       277\n",
      "weighted avg       0.93      0.94      0.93       277\n",
      "\n",
      "\n",
      "\n",
      "Score of the model:  96.92307692307692\n",
      "\n",
      "\n",
      "[[ 69   0   2   0]\n",
      " [  2  10   0   0]\n",
      " [  0   0 185   0]\n",
      " [  0   0   0   9]]\n",
      "The accuracy of the  SVC  model is  98.55595667870037\n",
      "Classification report:\n",
      "               precision    recall  f1-score   support\n",
      "\n",
      "           0       0.97      0.97      0.97        71\n",
      "           1       1.00      0.83      0.91        12\n",
      "           2       0.99      1.00      0.99       185\n",
      "           3       1.00      1.00      1.00         9\n",
      "\n",
      "    accuracy                           0.99       277\n",
      "   macro avg       0.99      0.95      0.97       277\n",
      "weighted avg       0.99      0.99      0.99       277\n",
      "\n",
      "\n",
      "\n",
      "Score of the model:  100.0\n",
      "\n",
      "\n",
      "[[ 11   0  58   2]\n",
      " [  2   0  10   0]\n",
      " [ 18   0 167   0]\n",
      " [  6   0   2   1]]\n",
      "The accuracy of the  LogisticRegression  model is  64.62093862815884\n",
      "Classification report:\n",
      "               precision    recall  f1-score   support\n",
      "\n",
      "           0       0.30      0.15      0.20        71\n",
      "           1       0.00      0.00      0.00        12\n",
      "           2       0.70      0.90      0.79       185\n",
      "           3       0.33      0.11      0.17         9\n",
      "\n",
      "    accuracy                           0.65       277\n",
      "   macro avg       0.33      0.29      0.29       277\n",
      "weighted avg       0.56      0.65      0.59       277\n",
      "\n",
      "\n",
      "\n",
      "Score of the model:  69.50226244343891\n",
      "\n",
      "\n"
     ]
    },
    {
     "name": "stderr",
     "output_type": "stream",
     "text": [
      "C:\\Users\\NITRO\\anaconda3\\lib\\site-packages\\sklearn\\metrics\\_classification.py:1318: UndefinedMetricWarning: Precision and F-score are ill-defined and being set to 0.0 in labels with no predicted samples. Use `zero_division` parameter to control this behavior.\n",
      "  _warn_prf(average, modifier, msg_start, len(result))\n",
      "C:\\Users\\NITRO\\anaconda3\\lib\\site-packages\\sklearn\\metrics\\_classification.py:1318: UndefinedMetricWarning: Precision and F-score are ill-defined and being set to 0.0 in labels with no predicted samples. Use `zero_division` parameter to control this behavior.\n",
      "  _warn_prf(average, modifier, msg_start, len(result))\n",
      "C:\\Users\\NITRO\\anaconda3\\lib\\site-packages\\sklearn\\metrics\\_classification.py:1318: UndefinedMetricWarning: Precision and F-score are ill-defined and being set to 0.0 in labels with no predicted samples. Use `zero_division` parameter to control this behavior.\n",
      "  _warn_prf(average, modifier, msg_start, len(result))\n"
     ]
    }
   ],
   "source": [
    "from sklearn.metrics import confusion_matrix, accuracy_score,classification_report\n",
    " \n",
    "for model in models:\n",
    "    model.fit(x_train, y_train) # fit the model\n",
    "    y_pred= model.predict(x_test) # then predict on the test set\n",
    "    score = model.score(x_train,y_train)\n",
    "    accuracy= accuracy_score(y_test, y_pred) \n",
    "    clf_report= classification_report(y_test, y_pred) \n",
    "    print(confusion_matrix(y_test,y_pred))\n",
    "    print(\"The accuracy of the \",type(model).__name__, \" model is \", accuracy*100 )\n",
    "    print(\"Classification report:\\n\", clf_report)\n",
    "    print(\"\\n\")\n",
    "    print(\"Score of the model: \",score*100)\n",
    "    print(\"\\n\")"
   ]
  },
  {
   "cell_type": "markdown",
   "metadata": {},
   "source": [
    "## Model Performance Insights\n",
    "\n",
    "Based on the outcome of the multi-model testing, we have the following insights:\n",
    "\n",
    "1. **DecisionTreeClassifier:**\n",
    "   - Achieved an accuracy of approximately 97.83%.\n",
    "   - Shows high precision, recall, and F1-score for all classes, indicating good performance across different classes.\n",
    "   - Score of the model on the training set is 100.0%.\n",
    "\n",
    "2. **KNeighborsClassifier:**\n",
    "   - Achieved an accuracy of approximately 93.50%.\n",
    "   - Precision, recall, and F1-score vary across different classes, with lower scores for class 1.\n",
    "   - Score of the model on the training set is 96.92%.\n",
    "\n",
    "3. **SVC (Support Vector Classifier):**\n",
    "   - Achieved an accuracy of approximately 98.56%, the highest among the models.\n",
    "   - Shows high precision, recall, and F1-score for all classes, similar to the DecisionTreeClassifier.\n",
    "   - Score of the model on the training set is 100.0%.\n",
    "\n",
    "4. **LogisticRegression:**\n",
    "   - Achieved the lowest accuracy of approximately 64.62%.\n",
    "   - Precision, recall, and F1-score are relatively low, especially for class 1.\n",
    "   - Score of the model on the training set is 69.50%.\n",
    "\n",
    "### Insights:\n",
    "- The DecisionTreeClassifier and SVC models performed exceptionally well, with high accuracy and balanced performance across different classes.\n",
    "- KNeighborsClassifier also performed reasonably well but showed slightly lower accuracy compared to DecisionTreeClassifier and SVC.\n",
    "- LogisticRegression showed the lowest performance, indicating that it might not be the best choice for this dataset compared to the other models.\n",
    "- Further analysis and fine-tuning of hyperparameters could potentially improve the performance of the models, especially for LogisticRegression, to make it more competitive with the other models.\n"
   ]
  },
  {
   "cell_type": "markdown",
   "metadata": {},
   "source": [
    "Out of the many models that we tried, the base decision tree and the tuned SVC are the top performing models. So if we want to select the best model, we can go with the base decision tree since it is a less complex model that gives us good accuracy. So we can use this base decision tree to predict upon test data.\n",
    "\n",
    "- Tuned SVC: 98.55%\n",
    "- Base SVC: 82.67%\n",
    "- Base Decision Tree: 97.83%\n",
    "- Pruned Decision Tree: 96.02%\n",
    "- Logistic Regression: 64.62%\n",
    "- KNN: 93.50%\n"
   ]
  },
  {
   "cell_type": "code",
   "execution_count": 39,
   "metadata": {},
   "outputs": [
    {
     "data": {
      "text/html": [
       "<div>\n",
       "<style scoped>\n",
       "    .dataframe tbody tr th:only-of-type {\n",
       "        vertical-align: middle;\n",
       "    }\n",
       "\n",
       "    .dataframe tbody tr th {\n",
       "        vertical-align: top;\n",
       "    }\n",
       "\n",
       "    .dataframe thead th {\n",
       "        text-align: right;\n",
       "    }\n",
       "</style>\n",
       "<table border=\"1\" class=\"dataframe\">\n",
       "  <thead>\n",
       "    <tr style=\"text-align: right;\">\n",
       "      <th></th>\n",
       "      <th>buying</th>\n",
       "      <th>maint</th>\n",
       "      <th>doors</th>\n",
       "      <th>persons</th>\n",
       "      <th>lug_boot</th>\n",
       "      <th>safety</th>\n",
       "    </tr>\n",
       "  </thead>\n",
       "  <tbody>\n",
       "    <tr>\n",
       "      <th>0</th>\n",
       "      <td>2</td>\n",
       "      <td>3</td>\n",
       "      <td>3</td>\n",
       "      <td>1</td>\n",
       "      <td>2</td>\n",
       "      <td>1</td>\n",
       "    </tr>\n",
       "    <tr>\n",
       "      <th>1</th>\n",
       "      <td>3</td>\n",
       "      <td>0</td>\n",
       "      <td>0</td>\n",
       "      <td>0</td>\n",
       "      <td>0</td>\n",
       "      <td>2</td>\n",
       "    </tr>\n",
       "    <tr>\n",
       "      <th>2</th>\n",
       "      <td>1</td>\n",
       "      <td>0</td>\n",
       "      <td>0</td>\n",
       "      <td>2</td>\n",
       "      <td>2</td>\n",
       "      <td>1</td>\n",
       "    </tr>\n",
       "    <tr>\n",
       "      <th>3</th>\n",
       "      <td>3</td>\n",
       "      <td>3</td>\n",
       "      <td>1</td>\n",
       "      <td>0</td>\n",
       "      <td>0</td>\n",
       "      <td>0</td>\n",
       "    </tr>\n",
       "    <tr>\n",
       "      <th>4</th>\n",
       "      <td>1</td>\n",
       "      <td>2</td>\n",
       "      <td>2</td>\n",
       "      <td>1</td>\n",
       "      <td>1</td>\n",
       "      <td>2</td>\n",
       "    </tr>\n",
       "  </tbody>\n",
       "</table>\n",
       "</div>"
      ],
      "text/plain": [
       "   buying  maint  doors  persons  lug_boot  safety\n",
       "0       2      3      3        1         2       1\n",
       "1       3      0      0        0         0       2\n",
       "2       1      0      0        2         2       1\n",
       "3       3      3      1        0         0       0\n",
       "4       1      2      2        1         1       2"
      ]
     },
     "execution_count": 39,
     "metadata": {},
     "output_type": "execute_result"
    }
   ],
   "source": [
    "cars_test.head()"
   ]
  },
  {
   "cell_type": "code",
   "execution_count": 40,
   "metadata": {},
   "outputs": [],
   "source": [
    "test = cars_test.values\n",
    "test = scaler.transform(test)\n",
    "#print(test)"
   ]
  },
  {
   "cell_type": "markdown",
   "metadata": {},
   "source": [
    "# Final Model: Decision Tree Classifier\n",
    "\n",
    "We have selected the Decision Tree Classifier as our final model for predicting the values. Here are the details:\n",
    "\n",
    "- **Algorithm**: Decision Tree Classifier\n",
    "- **Criterion**: Gini impurity\n",
    "- **Random State**: 10\n",
    "- **Splitter**: Best\n",
    "\n",
    "We fitted the model on the training data (`x_train`, `y_train`) and used it to predict values.\n",
    "\n",
    "```python \n",
    "# importing libraries\n",
    "from sklearn.tree import DecisionTreeClassifier\n",
    "\n",
    "# Initialize the Decision Tree Classifier with specified parameters\n",
    "model_DecisionTree = DecisionTreeClassifier(criterion=\"gini\",\n",
    "                                            random_state=10,\n",
    "                                            splitter=\"best\")\n",
    "\n",
    "# Fit the model on the training data\n",
    "model_DecisionTree.fit(x_train, y_train)\n",
    "```"
   ]
  },
  {
   "cell_type": "code",
   "execution_count": 41,
   "metadata": {},
   "outputs": [
    {
     "data": {
      "text/plain": [
       "DecisionTreeClassifier(random_state=10)"
      ]
     },
     "execution_count": 41,
     "metadata": {},
     "output_type": "execute_result"
    }
   ],
   "source": [
    "#predicting using the Decision_Tree_Classifier\n",
    "from sklearn.tree import DecisionTreeClassifier\n",
    "\n",
    "model_DecisionTree = DecisionTreeClassifier (criterion =\"gini\",\n",
    "                                            random_state=10,\n",
    "                                            splitter=\"best\")\n",
    "\n",
    "#fit the model on the data and predict the values\n",
    "model_DecisionTree.fit(x_train,y_train)"
   ]
  },
  {
   "cell_type": "code",
   "execution_count": 42,
   "metadata": {},
   "outputs": [
    {
     "data": {
      "text/plain": [
       "array([2, 2, 2, 2, 1, 2, 0, 0, 2, 0, 2, 2, 2, 2, 0, 0, 2, 2, 2, 2, 2, 2,\n",
       "       2, 2, 2, 2, 2, 0, 2, 2, 2, 2, 2, 0, 2, 2, 2, 2, 2, 0, 2, 2, 2, 3,\n",
       "       2, 0, 2, 2, 2, 2, 2, 0, 1, 3, 1, 2, 0, 2, 0, 2, 2, 2, 2, 3, 2, 2,\n",
       "       0, 0, 2, 2, 3, 2, 2, 2, 1, 2, 0, 3, 2, 2, 2, 2, 2, 2, 2, 2, 2, 0,\n",
       "       2, 0, 2, 2, 2, 2, 2, 2, 2, 2, 2, 2, 2, 2, 2, 2, 0, 2, 2, 2, 2, 2,\n",
       "       2, 2, 2, 2, 1, 2, 2, 0, 2, 2, 2, 2, 2, 2, 0, 2, 2, 2, 2, 2, 2, 2,\n",
       "       2, 2, 0, 2, 2, 3, 2, 2, 0, 2, 0, 3, 2, 2, 2, 2, 2, 2, 2, 2, 3, 2,\n",
       "       2, 2, 2, 2, 1, 1, 2, 2, 2, 2, 2, 2, 2, 2, 2, 2, 2, 0, 2, 3, 2, 2,\n",
       "       2, 2, 0, 0, 2, 2, 2, 2, 3, 2, 0, 2, 1, 0, 2, 2, 2, 2, 2, 3, 0, 0,\n",
       "       2, 2, 2, 2, 0, 2, 2, 2, 2, 2, 2, 2, 3, 0, 2, 2, 2, 3, 2, 2, 0, 2,\n",
       "       2, 2, 2, 2, 2, 2, 0, 2, 2, 2, 2, 2, 0, 0, 2, 2, 2, 2, 3, 2, 2, 0,\n",
       "       2, 0, 2, 0, 2, 2, 2, 2, 2, 0, 2, 2, 2, 0, 2, 2, 0, 2, 2, 2, 0, 2,\n",
       "       2, 2, 0, 2, 2, 0, 2, 2, 2, 1, 1, 2, 2, 2, 0, 2, 2, 0, 3, 3, 0, 2,\n",
       "       0, 2, 2, 2, 3, 2, 2, 0, 2, 2, 2, 2, 2, 0, 2, 2, 2, 3, 2, 2, 2, 0,\n",
       "       2, 2, 2, 2, 0, 0, 2, 2, 1, 2, 2, 2, 0, 2, 2, 0, 0, 2, 0, 0, 2, 2,\n",
       "       0, 0, 2, 2, 2, 2, 2, 0, 2, 2, 2, 0, 2, 2, 2, 2])"
      ]
     },
     "execution_count": 42,
     "metadata": {},
     "output_type": "execute_result"
    }
   ],
   "source": [
    "test_pred = model_DecisionTree.predict(test)\n",
    "test_pred"
   ]
  },
  {
   "cell_type": "markdown",
   "metadata": {},
   "source": [
    "# Predictions on Test Data\n",
    "\n",
    "We have loaded the test data from the 'cars_test.csv' file and assigned column names to it. After making predictions using the trained model, we have added a new column 'Pred' to the test data DataFrame to store the predicted class labels.\n",
    "\n",
    "```python\n",
    "import pandas as pd\n",
    "\n",
    "# Load the test data and assign column names\n",
    "cars_test = pd.read_csv(r'cars_test.csv', header=None)\n",
    "cars_test.columns = ['buying', 'maint', 'doors', 'persons', 'lug_boot', 'safety', 'classes']\n",
    "\n",
    "# Replace numerical predictions with corresponding labels\n",
    "cars_test['Pred'] = test_pred\n",
    "cars_test['Pred'] = cars_test['Pred'].replace({0: 'acc', 1: 'good', 2: 'unacc', 3: 'vgood'})\n",
    "\n",
    "# Display the first few rows of the updated test data\n",
    "cars_test.head()\n",
    "```"
   ]
  },
  {
   "cell_type": "code",
   "execution_count": 43,
   "metadata": {
    "scrolled": true
   },
   "outputs": [
    {
     "data": {
      "text/html": [
       "<div>\n",
       "<style scoped>\n",
       "    .dataframe tbody tr th:only-of-type {\n",
       "        vertical-align: middle;\n",
       "    }\n",
       "\n",
       "    .dataframe tbody tr th {\n",
       "        vertical-align: top;\n",
       "    }\n",
       "\n",
       "    .dataframe thead th {\n",
       "        text-align: right;\n",
       "    }\n",
       "</style>\n",
       "<table border=\"1\" class=\"dataframe\">\n",
       "  <thead>\n",
       "    <tr style=\"text-align: right;\">\n",
       "      <th></th>\n",
       "      <th>buying</th>\n",
       "      <th>maint</th>\n",
       "      <th>doors</th>\n",
       "      <th>persons</th>\n",
       "      <th>lug_boot</th>\n",
       "      <th>safety</th>\n",
       "      <th>classes</th>\n",
       "      <th>Pred</th>\n",
       "    </tr>\n",
       "  </thead>\n",
       "  <tbody>\n",
       "    <tr>\n",
       "      <th>0</th>\n",
       "      <td>med</td>\n",
       "      <td>vhigh</td>\n",
       "      <td>5more</td>\n",
       "      <td>4</td>\n",
       "      <td>small</td>\n",
       "      <td>low</td>\n",
       "      <td>unacc</td>\n",
       "      <td>unacc</td>\n",
       "    </tr>\n",
       "    <tr>\n",
       "      <th>1</th>\n",
       "      <td>vhigh</td>\n",
       "      <td>high</td>\n",
       "      <td>2</td>\n",
       "      <td>2</td>\n",
       "      <td>big</td>\n",
       "      <td>med</td>\n",
       "      <td>unacc</td>\n",
       "      <td>unacc</td>\n",
       "    </tr>\n",
       "    <tr>\n",
       "      <th>2</th>\n",
       "      <td>low</td>\n",
       "      <td>high</td>\n",
       "      <td>2</td>\n",
       "      <td>more</td>\n",
       "      <td>small</td>\n",
       "      <td>low</td>\n",
       "      <td>unacc</td>\n",
       "      <td>unacc</td>\n",
       "    </tr>\n",
       "    <tr>\n",
       "      <th>3</th>\n",
       "      <td>vhigh</td>\n",
       "      <td>vhigh</td>\n",
       "      <td>3</td>\n",
       "      <td>2</td>\n",
       "      <td>big</td>\n",
       "      <td>high</td>\n",
       "      <td>unacc</td>\n",
       "      <td>unacc</td>\n",
       "    </tr>\n",
       "    <tr>\n",
       "      <th>4</th>\n",
       "      <td>low</td>\n",
       "      <td>med</td>\n",
       "      <td>4</td>\n",
       "      <td>4</td>\n",
       "      <td>med</td>\n",
       "      <td>med</td>\n",
       "      <td>good</td>\n",
       "      <td>good</td>\n",
       "    </tr>\n",
       "  </tbody>\n",
       "</table>\n",
       "</div>"
      ],
      "text/plain": [
       "  buying  maint  doors persons lug_boot safety classes   Pred\n",
       "0    med  vhigh  5more       4    small    low   unacc  unacc\n",
       "1  vhigh   high      2       2      big    med   unacc  unacc\n",
       "2    low   high      2    more    small    low   unacc  unacc\n",
       "3  vhigh  vhigh      3       2      big   high   unacc  unacc\n",
       "4    low    med      4       4      med    med    good   good"
      ]
     },
     "execution_count": 43,
     "metadata": {},
     "output_type": "execute_result"
    }
   ],
   "source": [
    "cars_test = pd.read_csv(r'cars_test.csv',header = None)\n",
    "cars_test.columns=['buying','maint','doors','persons','lug_boot','safety','classes']\n",
    "cars_test['Pred'] =test_pred\n",
    "cars_test['Pred']=cars_test['Pred'].replace({0:'acc', 1:'good',2:'unacc',3:'vgood'})\n",
    "\n",
    "cars_test.head()"
   ]
  },
  {
   "cell_type": "markdown",
   "metadata": {},
   "source": [
    "The 'Pred' column now contains the predicted class labels ('acc', 'good', 'unacc', 'vgood') for each data point in the test set."
   ]
  },
  {
   "cell_type": "code",
   "execution_count": 44,
   "metadata": {},
   "outputs": [
    {
     "name": "stdout",
     "output_type": "stream",
     "text": [
      "[[ 60   1   3   0]\n",
      " [  3  10   0   0]\n",
      " [  0   0 251   0]\n",
      " [  0   0   0  18]]\n",
      "0.9797687861271677\n",
      "              precision    recall  f1-score   support\n",
      "\n",
      "         acc       0.95      0.94      0.94        64\n",
      "        good       0.91      0.77      0.83        13\n",
      "       unacc       0.99      1.00      0.99       251\n",
      "       vgood       1.00      1.00      1.00        18\n",
      "\n",
      "    accuracy                           0.98       346\n",
      "   macro avg       0.96      0.93      0.94       346\n",
      "weighted avg       0.98      0.98      0.98       346\n",
      "\n"
     ]
    }
   ],
   "source": [
    "from sklearn.metrics import confusion_matrix, accuracy_score,classification_report\n",
    "# confusion matrix \n",
    "print(confusion_matrix(cars_test.classes,cars_test.Pred))\n",
    "print(accuracy_score(cars_test.classes,cars_test.Pred))\n",
    "print(classification_report(cars_test.classes,cars_test.Pred))"
   ]
  },
  {
   "cell_type": "markdown",
   "metadata": {},
   "source": [
    "# Saving Predictions to Excel\n",
    "\n",
    "We have saved the predictions made on the test data using the Decision Tree Classifier to an Excel file named \"Decision Tree Output for car safety.xlsx\". The DataFrame containing the test data along with the predicted class labels is written to the Excel file without including the index and with column headers included.\n",
    "\n",
    "```python\n",
    "# Save the DataFrame to an Excel file\n",
    "cars_test.to_excel(\"Decision Tree Output for car safety.xlsx\", header=True, index=False)\n",
    "```\n",
    "This Excel file can be used for further analysis or reporting purposes.\n",
    "\n"
   ]
  },
  {
   "cell_type": "code",
   "execution_count": 45,
   "metadata": {},
   "outputs": [],
   "source": [
    "cars_test.to_excel(\"Decision Tree Output for car safety.xlsx\",header = True,index=False)"
   ]
  },
  {
   "cell_type": "markdown",
   "metadata": {},
   "source": [
    "# Conclusion\n",
    "\n",
    "In this project, we explored the classification of car safety using machine learning techniques. We began by analyzing the dataset and preprocessing the data to prepare it for model training. We then experimented with various classification algorithms, including Decision Tree Classifier, K-Nearest Neighbors, Support Vector Machine, and Logistic Regression.\n",
    "\n",
    "After evaluating the performance of each model using metrics such as accuracy, precision, recall, and F1-score, we selected the Decision Tree Classifier as our final model due to its high accuracy and simplicity. We fine-tuned the Decision Tree Classifier using parameters such as criterion and splitter to optimize its performance.\n",
    "\n",
    "Finally, we applied the trained model to make predictions on the test dataset and saved the results to an Excel file for further analysis or reporting.\n",
    "\n",
    "This project demonstrates the application of machine learning algorithms for car safety classification and highlights the importance of model selection and evaluation in achieving accurate predictions.\n"
   ]
  },
  {
   "cell_type": "code",
   "execution_count": null,
   "metadata": {},
   "outputs": [],
   "source": []
  }
 ],
 "metadata": {
  "kernelspec": {
   "display_name": "Python 3",
   "language": "python",
   "name": "python3"
  },
  "language_info": {
   "codemirror_mode": {
    "name": "ipython",
    "version": 3
   },
   "file_extension": ".py",
   "mimetype": "text/x-python",
   "name": "python",
   "nbconvert_exporter": "python",
   "pygments_lexer": "ipython3",
   "version": "3.7.6"
  }
 },
 "nbformat": 4,
 "nbformat_minor": 5
}
